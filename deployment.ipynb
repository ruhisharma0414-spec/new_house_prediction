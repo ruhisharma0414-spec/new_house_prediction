{
  "cells": [
    {
      "cell_type": "code",
      "source": [
        "# deploy.py\n",
        "import uuid\n",
        "from azure.identity import DefaultAzureCredential\n",
        "from azure.ai.ml import MLClient\n",
        "from azure.ai.ml.entities import (\n",
        "    Model,\n",
        "    Environment,\n",
        "    CodeConfiguration,\n",
        "    ManagedOnlineEndpoint,\n",
        "    ManagedOnlineDeployment,\n",
        ")\n",
        "\n",
        "# 🔐 Azure Configuration\n",
        "subscription_id = \"1866914e-e6c4-4ac4-ac02-edbc34859691\"\n",
        "resource_group = \"newml\"\n",
        "workspace_name = \"mlspace1\"\n",
        "\n",
        "# Connect to workspace\n",
        "ml_client = MLClient(\n",
        "    DefaultAzureCredential(),\n",
        "    subscription_id,\n",
        "    resource_group,\n",
        "    workspace_name\n",
        ")\n",
        "\n"
      ],
      "outputs": [],
      "execution_count": 2,
      "metadata": {
        "gather": {
          "logged": 1757086391180
        }
      }
    },
    {
      "cell_type": "code",
      "source": [
        "# registering both models by combining\n",
        "model = ml_client.models.create_or_update(\n",
        "    Model(path=\"./model_assets\", name=\"CombinedModel\")\n",
        ")\n"
      ],
      "outputs": [
        {
          "output_type": "stream",
          "name": "stderr",
          "text": "Your file exceeds 100 MB. If you experience low speeds, latency, or broken connections, we recommend using the AzCopyv10 tool for this file transfer.\n\nExample: azcopy copy '/mnt/batch/tasks/shared/LS_root/mounts/clusters/shubhamss21091/code/Users/shubhamss2109/model_assets' 'https://mlspace18808489114.blob.core.windows.net/azureml-blobstore-7ef0e3f6-a4a5-4403-b8b6-bf98a71e3316/LocalUpload/f434bd7f1eb9c9e932ff2994cdb4a8e107b8bb66d8561e2ec46d5daa0f96e77e/model_assets' \n\nSee https://learn.microsoft.com/azure/storage/common/storage-use-azcopy-v10 for more information.\n"
        }
      ],
      "execution_count": 4,
      "metadata": {
        "gather": {
          "logged": 1757086464410
        }
      }
    },
    {
      "cell_type": "code",
      "source": [
        "# 2️⃣ Create the environment\n",
        "env = Environment(\n",
        "    name=\"my-env4\",\n",
        "    description=\"Environment for sklearn model\",\n",
        "    conda_file=\"environment.yaml\",\n",
        "    image=\"mcr.microsoft.com/azureml/openmpi4.1.0-ubuntu20.04:latest\"\n",
        ")\n",
        "ml_client.environments.create_or_update(env)\n"
      ],
      "outputs": [
        {
          "output_type": "execute_result",
          "execution_count": 5,
          "data": {
            "text/plain": "Environment({'arm_type': 'environment_version', 'latest_version': None, 'image': 'mcr.microsoft.com/azureml/openmpi4.1.0-ubuntu20.04:latest', 'intellectual_property': None, 'is_anonymous': False, 'auto_increment_version': False, 'auto_delete_setting': None, 'name': 'my-env4', 'description': 'Environment for sklearn model', 'tags': {}, 'properties': {'azureml.labels': 'latest'}, 'print_as_yaml': False, 'id': '/subscriptions/1866914e-e6c4-4ac4-ac02-edbc34859691/resourceGroups/newml/providers/Microsoft.MachineLearningServices/workspaces/mlspace1/environments/my-env4/versions/1', 'Resource__source_path': '', 'base_path': '/mnt/batch/tasks/shared/LS_root/mounts/clusters/shubhamss21091/code/Users/shubhamss2109', 'creation_context': <azure.ai.ml.entities._system_data.SystemData object at 0x7dbbb7903310>, 'serialize': <msrest.serialization.Serializer object at 0x7dbbb7901210>, 'version': '1', 'conda_file': {'channels': ['defaults'], 'dependencies': ['python= 3.10.11', 'pip', {'pip': ['scikit-learn', 'joblib', 'numpy', 'pandas', 'azure-ai-ml', 'azureml-defaults', 'inference-schema', 'azureml-mlflow']}], 'name': 'my-env'}, 'build': None, 'inference_config': None, 'os_type': 'Linux', 'conda_file_path': None, 'path': None, 'datastore': None, 'upload_hash': None, 'translated_conda_file': '{\\n  \"channels\": [\\n    \"defaults\"\\n  ],\\n  \"dependencies\": [\\n    \"python= 3.10.11\",\\n    \"pip\",\\n    {\\n      \"pip\": [\\n        \"scikit-learn\",\\n        \"joblib\",\\n        \"numpy\",\\n        \"pandas\",\\n        \"azure-ai-ml\",\\n        \"azureml-defaults\",\\n        \"inference-schema\",\\n        \"azureml-mlflow\"\\n      ]\\n    }\\n  ],\\n  \"name\": \"my-env\"\\n}'})"
          },
          "metadata": {}
        }
      ],
      "execution_count": 5,
      "metadata": {
        "gather": {
          "logged": 1757086477070
        }
      }
    },
    {
      "cell_type": "code",
      "source": [
        "# 3️⃣ Create the endpoint\n",
        "endpoint = ManagedOnlineEndpoint(\n",
        "    name=\"newendpoint1\",\n",
        "    description=\"Scikit-learn new model endpoint\",\n",
        "    auth_mode=\"key\"\n",
        ")\n",
        "ml_client.online_endpoints.begin_create_or_update(endpoint).result()\n"
      ],
      "outputs": [
        {
          "output_type": "stream",
          "name": "stderr",
          "text": "/anaconda/envs/azureml_py310_sdkv2/lib/python3.10/site-packages/mlflow/__init__.py:41: UserWarning: Versions of mlflow (3.1.1) and mlflow-skinny (2.22.1) are different. This may lead to unexpected behavior. Please install the same version of both packages.\n  mlflow.mismatch._check_version_mismatch()\n"
        },
        {
          "output_type": "execute_result",
          "execution_count": 6,
          "data": {
            "text/plain": "ManagedOnlineEndpoint({'public_network_access': 'Enabled', 'provisioning_state': 'Succeeded', 'scoring_uri': 'https://newendpoint1.westus3.inference.ml.azure.com/score', 'openapi_uri': 'https://newendpoint1.westus3.inference.ml.azure.com/swagger.json', 'name': 'newendpoint1', 'description': 'Scikit-learn new model endpoint', 'tags': {}, 'properties': {'createdBy': 'SHUBHAM SHARMA', 'createdAt': '2025-09-05T15:35:29.916696+0000', 'lastModifiedAt': '2025-09-05T15:35:29.916696+0000', 'azureml.onlineendpointid': '/subscriptions/1866914e-e6c4-4ac4-ac02-edbc34859691/resourcegroups/newml/providers/microsoft.machinelearningservices/workspaces/mlspace1/onlineendpoints/newendpoint1', 'AzureAsyncOperationUri': 'https://management.azure.com/subscriptions/1866914e-e6c4-4ac4-ac02-edbc34859691/providers/Microsoft.MachineLearningServices/locations/westus3/mfeOperationsStatus/oeidp:7ef0e3f6-a4a5-4403-b8b6-bf98a71e3316:8d784fb1-0e9a-4c88-aca4-3370316783ac?api-version=2022-02-01-preview'}, 'print_as_yaml': False, 'id': '/subscriptions/1866914e-e6c4-4ac4-ac02-edbc34859691/resourceGroups/newml/providers/Microsoft.MachineLearningServices/workspaces/mlspace1/onlineEndpoints/newendpoint1', 'Resource__source_path': '', 'base_path': '/mnt/batch/tasks/shared/LS_root/mounts/clusters/shubhamss21091/code/Users/shubhamss2109', 'creation_context': None, 'serialize': <msrest.serialization.Serializer object at 0x7dbba44ed6f0>, 'auth_mode': 'key', 'location': 'westus3', 'identity': <azure.ai.ml.entities._credentials.IdentityConfiguration object at 0x7dbba44ed870>, 'traffic': {}, 'mirror_traffic': {}, 'kind': 'Managed'})"
          },
          "metadata": {}
        }
      ],
      "execution_count": 6,
      "metadata": {
        "gather": {
          "logged": 1757086654421
        }
      }
    },
    {
      "cell_type": "code",
      "source": [
        "from azure.ai.ml.entities import ManagedOnlineDeployment, CodeConfiguration, Model\n",
        "\n",
        "deployment = ManagedOnlineDeployment(\n",
        "    name=\"green1\",\n",
        "    endpoint_name=\"newendpoint1\",\n",
        "    model=model.id,   \n",
        "    environment=env,\n",
        "    code_configuration=CodeConfiguration(\n",
        "        code=\".\",  # folder containing score.py\n",
        "        scoring_script=\"score.py\",\n",
        "    ),\n",
        "    instance_type=\"Standard_DS2_v2\",\n",
        "    instance_count=1,\n",
        ")\n",
        "\n",
        "ml_client.online_deployments.begin_create_or_update(deployment).result()\n"
      ],
      "outputs": [
        {
          "output_type": "stream",
          "name": "stderr",
          "text": "Instance type Standard_DS2_v2 may be too small for compute resources. Minimum recommended compute SKU is Standard_DS3_v2 for general purpose endpoints. Learn more about SKUs here: https://learn.microsoft.com/azure/machine-learning/referencemanaged-online-endpoints-vm-sku-list\nCheck: endpoint newendpoint1 exists\n"
        }
      ],
      "execution_count": 7,
      "metadata": {
        "gather": {
          "logged": 1757063968544
        }
      }
    },
    {
      "cell_type": "code",
      "source": [],
      "outputs": [],
      "execution_count": null,
      "metadata": {}
    }
  ],
  "metadata": {
    "kernelspec": {
      "name": "python310-sdkv2",
      "language": "python",
      "display_name": "Python 3.10 - SDK v2"
    },
    "language_info": {
      "name": "python",
      "version": "3.10.18",
      "mimetype": "text/x-python",
      "codemirror_mode": {
        "name": "ipython",
        "version": 3
      },
      "pygments_lexer": "ipython3",
      "nbconvert_exporter": "python",
      "file_extension": ".py"
    },
    "microsoft": {
      "ms_spell_check": {
        "ms_spell_check_language": "en"
      },
      "host": {
        "AzureML": {
          "notebookHasBeenCompleted": true
        }
      }
    },
    "kernel_info": {
      "name": "python310-sdkv2"
    },
    "nteract": {
      "version": "nteract-front-end@1.0.0"
    }
  },
  "nbformat": 4,
  "nbformat_minor": 2
}